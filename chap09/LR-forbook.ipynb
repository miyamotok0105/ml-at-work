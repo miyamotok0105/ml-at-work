{
 "cells": [
  {
   "cell_type": "markdown",
   "metadata": {},
   "source": [
    "# Python Tips"
   ]
  },
  {
   "cell_type": "markdown",
   "metadata": {},
   "source": [
    "## 擬似乱数を生成：random"
   ]
  },
  {
   "cell_type": "code",
   "execution_count": 14,
   "metadata": {},
   "outputs": [
    {
     "name": "stdout",
     "output_type": "stream",
     "text": [
      "True\n",
      "True\n",
      "False\n",
      "True\n",
      "False\n",
      "False\n",
      "False\n",
      "False\n",
      "True\n",
      "True\n"
     ]
    }
   ],
   "source": [
    "import random\n",
    "seed = 1\n",
    "\n",
    "random_instance = random.Random(seed)\n",
    "for i in range(10):\n",
    "    print(random_instance.choice((True, False)))"
   ]
  },
  {
   "cell_type": "code",
   "execution_count": 119,
   "metadata": {},
   "outputs": [
    {
     "name": "stdout",
     "output_type": "stream",
     "text": [
      "0.009204938554384978\n",
      "0.8812338589221554\n",
      "0.6864838541790798\n",
      "0.9690406502940995\n",
      "0.7258526014465152\n",
      "0.5276294143623982\n",
      "0.7637009951314895\n",
      "0.9391670189485866\n",
      "0.5528595762929651\n",
      "0.34570041470875246\n"
     ]
    }
   ],
   "source": [
    "for i in range(10):\n",
    "    # Random float x, 0.0 <= x < 1.0\n",
    "    print(random_instance.random())"
   ]
  },
  {
   "cell_type": "markdown",
   "metadata": {},
   "source": [
    "## ラムダ式"
   ]
  },
  {
   "cell_type": "code",
   "execution_count": 44,
   "metadata": {},
   "outputs": [
    {
     "name": "stdout",
     "output_type": "stream",
     "text": [
      "42\n",
      "43\n"
     ]
    }
   ],
   "source": [
    "def make_incrementor(n):\n",
    "    return lambda x: x + n\n",
    "\n",
    "f = make_incrementor(42)\n",
    "print(f(0))\n",
    "print(f(1))"
   ]
  },
  {
   "cell_type": "code",
   "execution_count": 47,
   "metadata": {},
   "outputs": [
    {
     "name": "stdout",
     "output_type": "stream",
     "text": [
      "<class 'function'>\n",
      "43\n"
     ]
    }
   ],
   "source": [
    "lambda1 = lambda x: x + 42\n",
    "print(type(lambda1))\n",
    "print(lambda1(1))"
   ]
  },
  {
   "cell_type": "code",
   "execution_count": 1,
   "metadata": {},
   "outputs": [
    {
     "data": {
      "text/plain": [
       "43"
      ]
     },
     "execution_count": 1,
     "metadata": {},
     "output_type": "execute_result"
    }
   ],
   "source": [
    "#lambda1 = lambda x: x + 42\n",
    "def add(x):\n",
    "    return x + 42\n",
    "add(1)"
   ]
  },
  {
   "cell_type": "code",
   "execution_count": 48,
   "metadata": {},
   "outputs": [
    {
     "data": {
      "text/plain": [
       "[(4, 'four'), (1, 'one'), (3, 'three'), (2, 'two')]"
      ]
     },
     "execution_count": 48,
     "metadata": {},
     "output_type": "execute_result"
    }
   ],
   "source": [
    "pairs = [(1, 'one'), (2, 'two'), (3, 'three'), (4, 'four')]\n",
    "pairs.sort(key=lambda pair: pair[1])\n",
    "pairs"
   ]
  },
  {
   "cell_type": "markdown",
   "metadata": {},
   "source": [
    "## 2重内包表記"
   ]
  },
  {
   "cell_type": "code",
   "execution_count": 3,
   "metadata": {},
   "outputs": [
    {
     "data": {
      "text/plain": [
       "['a1b1', 'a1b2', 'a1b3', 'a2b1', 'a2b2', 'a2b3', 'a3b1', 'a3b2', 'a3b3']"
      ]
     },
     "execution_count": 3,
     "metadata": {},
     "output_type": "execute_result"
    }
   ],
   "source": [
    "# for i1 in l1:\n",
    "#     for i2 in l2:\n",
    "#         all_l.append(i1+i2)\n",
    "l1 = [\"a1\", \"a2\", \"a3\"]\n",
    "l2 = [\"b1\", \"b2\", \"b3\"]\n",
    "all_l = [i1+i2 for i1 in l1 for i2 in l2]\n",
    "all_l"
   ]
  },
  {
   "cell_type": "code",
   "execution_count": 4,
   "metadata": {},
   "outputs": [
    {
     "data": {
      "text/plain": [
       "['a1', 'a1', 'a1', 'a2', 'a2', 'a2', 'a3', 'a3', 'a3']"
      ]
     },
     "execution_count": 4,
     "metadata": {},
     "output_type": "execute_result"
    }
   ],
   "source": [
    "[i1 for i1 in l1 for i2 in l2]"
   ]
  },
  {
   "cell_type": "code",
   "execution_count": 9,
   "metadata": {},
   "outputs": [
    {
     "data": {
      "text/plain": [
       "['a1b1c1',\n",
       " 'a1b1c2',\n",
       " 'a1b1c3',\n",
       " 'a1b2c1',\n",
       " 'a1b2c2',\n",
       " 'a1b2c3',\n",
       " 'a1b3c1',\n",
       " 'a1b3c2',\n",
       " 'a1b3c3',\n",
       " 'a2b1c1',\n",
       " 'a2b1c2',\n",
       " 'a2b1c3',\n",
       " 'a2b2c1',\n",
       " 'a2b2c2',\n",
       " 'a2b2c3',\n",
       " 'a2b3c1',\n",
       " 'a2b3c2',\n",
       " 'a2b3c3',\n",
       " 'a3b1c1',\n",
       " 'a3b1c2',\n",
       " 'a3b1c3',\n",
       " 'a3b2c1',\n",
       " 'a3b2c2',\n",
       " 'a3b2c3',\n",
       " 'a3b3c1',\n",
       " 'a3b3c2',\n",
       " 'a3b3c3']"
      ]
     },
     "execution_count": 9,
     "metadata": {},
     "output_type": "execute_result"
    }
   ],
   "source": [
    "l3 = [\"c1\", \"c2\", \"c3\"]\n",
    "all_l = [i1+i2+i3 for i1 in l1 for i2 in l2 for i3 in l3]\n",
    "all_l"
   ]
  },
  {
   "cell_type": "markdown",
   "metadata": {},
   "source": [
    "## 高階関数"
   ]
  },
  {
   "cell_type": "markdown",
   "metadata": {},
   "source": [
    "関数を引数、戻り値として扱う関数"
   ]
  },
  {
   "cell_type": "code",
   "execution_count": 43,
   "metadata": {},
   "outputs": [
    {
     "data": {
      "text/plain": [
       "['a1!', 'a2!', 'a3!']"
      ]
     },
     "execution_count": 43,
     "metadata": {},
     "output_type": "execute_result"
    }
   ],
   "source": [
    "#map　全要素に適応\n",
    "list(map(lambda x: x+\"!\", l1))"
   ]
  },
  {
   "cell_type": "code",
   "execution_count": 11,
   "metadata": {},
   "outputs": [
    {
     "data": {
      "text/plain": [
       "['a1']"
      ]
     },
     "execution_count": 11,
     "metadata": {},
     "output_type": "execute_result"
    }
   ],
   "source": [
    "#filter 絞り込む\n",
    "list(filter(lambda x: x == \"a1\", l1))"
   ]
  },
  {
   "cell_type": "code",
   "execution_count": 68,
   "metadata": {},
   "outputs": [
    {
     "data": {
      "text/plain": [
       "['a1', 'a2']"
      ]
     },
     "execution_count": 68,
     "metadata": {},
     "output_type": "execute_result"
    }
   ],
   "source": [
    "filter1 = lambda x: x if x == \"a1\" or x == \"a2\" else \"\"\n",
    "list(filter(filter1, l1))"
   ]
  },
  {
   "cell_type": "code",
   "execution_count": 84,
   "metadata": {},
   "outputs": [
    {
     "data": {
      "text/plain": [
       "['a1!', 'a2!']"
      ]
     },
     "execution_count": 84,
     "metadata": {},
     "output_type": "execute_result"
    }
   ],
   "source": [
    "filter1 = lambda x: x if x == \"a1\" or x == \"a2\" else \"\"\n",
    "add_str1 = lambda x: x+\"!\"\n",
    "filtered_l = list(filter(filter1, l1))\n",
    "maped_l = list(map(add_str1, filtered_l))\n",
    "maped_l"
   ]
  },
  {
   "cell_type": "code",
   "execution_count": 14,
   "metadata": {},
   "outputs": [
    {
     "name": "stdout",
     "output_type": "stream",
     "text": [
      "7\n"
     ]
    }
   ],
   "source": [
    "#reduce まとめちゃう\n",
    "#リストの合計\n",
    "from functools import reduce\n",
    "nums = [3, 4, 6, -7, 0, 1]\n",
    "print(reduce(lambda x, y: x +y, nums, 0))\n"
   ]
  },
  {
   "cell_type": "code",
   "execution_count": 21,
   "metadata": {},
   "outputs": [
    {
     "name": "stdout",
     "output_type": "stream",
     "text": [
      "6\n"
     ]
    }
   ],
   "source": [
    "#要素数\n",
    "from functools import reduce\n",
    "nums = [3, 4, 6, -7, 0, 1]\n",
    "print(reduce(lambda x, y: x +1, nums, 0))"
   ]
  },
  {
   "cell_type": "code",
   "execution_count": 96,
   "metadata": {},
   "outputs": [
    {
     "name": "stdout",
     "output_type": "stream",
     "text": [
      "['a1b1', 'a1b2', 'a1b3', 'a2b1', 'a2b2', 'a2b3', 'a3b1', 'a3b2', 'a3b3']\n",
      "a1b1 | a1b2  , | a1b3  , | a2b1  , | a2b2  , | a2b3  , | a3b1  , | a3b2  , | a3b3  ,\n"
     ]
    }
   ],
   "source": [
    "reduce1 = lambda x,y: x + \" | \"+y+ \"  ,\"\n",
    "print(all_l)\n",
    "print(reduce(reduce1, all_l))"
   ]
  },
  {
   "cell_type": "markdown",
   "metadata": {},
   "source": [
    "ありがちな作業として、重み付けされた確率の random.choice() を作ることがあります。\n",
    "\n",
    "重み付けが整数比率なら、簡単なテクニックはサンプル母集団を繰り返しで作ることです:"
   ]
  },
  {
   "cell_type": "code",
   "execution_count": 34,
   "metadata": {},
   "outputs": [
    {
     "data": {
      "text/plain": [
       "['Red', 'Blue', 'Yellow', 'Green']"
      ]
     },
     "execution_count": 34,
     "metadata": {},
     "output_type": "execute_result"
    }
   ],
   "source": [
    "weighted_choices = [('Red', 3), ('Blue', 2), ('Yellow', 1), ('Green', 4)]\n",
    "population = [val for val, cnt in weighted_choices]\n",
    "population"
   ]
  },
  {
   "cell_type": "code",
   "execution_count": 35,
   "metadata": {},
   "outputs": [
    {
     "data": {
      "text/plain": [
       "['Red',\n",
       " 'Red',\n",
       " 'Red',\n",
       " 'Blue',\n",
       " 'Blue',\n",
       " 'Yellow',\n",
       " 'Green',\n",
       " 'Green',\n",
       " 'Green',\n",
       " 'Green']"
      ]
     },
     "execution_count": 35,
     "metadata": {},
     "output_type": "execute_result"
    }
   ],
   "source": [
    "weighted_choices = [('Red', 3), ('Blue', 2), ('Yellow', 1), ('Green', 4)]\n",
    "population = [val for val, cnt in weighted_choices for i in range(cnt)]\n",
    "population"
   ]
  },
  {
   "cell_type": "code",
   "execution_count": 21,
   "metadata": {},
   "outputs": [
    {
     "name": "stdout",
     "output_type": "stream",
     "text": [
      "Blue\n",
      "Green\n",
      "Red\n",
      "Blue\n",
      "Green\n"
     ]
    }
   ],
   "source": [
    "for i in range(5):\n",
    "    print(random.choice(population))"
   ]
  },
  {
   "cell_type": "markdown",
   "metadata": {},
   "source": [
    "## 引数展開"
   ]
  },
  {
   "cell_type": "markdown",
   "metadata": {},
   "source": [
    "こちらを参考    \n",
    "https://note.nkmk.me/python-argument-expand/    \n",
    "Pythonではリスト（配列）、タプル、辞書を展開して、それぞれの要素を関数の引数にまとめて渡すことができる。\n",
    "\n",
    "関数呼び出し時に、リストとタプルには*、辞書には**をつけて引数に指定する。"
   ]
  },
  {
   "cell_type": "markdown",
   "metadata": {},
   "source": [
    "### リストやタプルに*を付けて展開"
   ]
  },
  {
   "cell_type": "code",
   "execution_count": 23,
   "metadata": {},
   "outputs": [
    {
     "name": "stdout",
     "output_type": "stream",
     "text": [
      "one\n",
      "two\n",
      "three\n"
     ]
    }
   ],
   "source": [
    "def func(arg1, arg2, arg3):\n",
    "    print(arg1)\n",
    "    print(arg2)\n",
    "    print(arg3)\n",
    "\n",
    "l = ['one', 'two', 'three']\n",
    "#リストが引数に展開された\n",
    "func(*l)"
   ]
  },
  {
   "cell_type": "code",
   "execution_count": 24,
   "metadata": {},
   "outputs": [
    {
     "name": "stdout",
     "output_type": "stream",
     "text": [
      "one\n",
      "two\n",
      "three\n"
     ]
    }
   ],
   "source": [
    "func(*['one', 'two', 'three'])"
   ]
  },
  {
   "cell_type": "code",
   "execution_count": 25,
   "metadata": {},
   "outputs": [
    {
     "name": "stdout",
     "output_type": "stream",
     "text": [
      "<class 'tuple'>\n"
     ]
    }
   ],
   "source": [
    "t = ('one', 'two', 'three')\n",
    "print(type(t))"
   ]
  },
  {
   "cell_type": "code",
   "execution_count": 26,
   "metadata": {},
   "outputs": [
    {
     "name": "stdout",
     "output_type": "stream",
     "text": [
      "one\n",
      "two\n",
      "three\n"
     ]
    }
   ],
   "source": [
    "func(*t)"
   ]
  },
  {
   "cell_type": "code",
   "execution_count": 27,
   "metadata": {},
   "outputs": [
    {
     "name": "stdout",
     "output_type": "stream",
     "text": [
      "one\n",
      "two\n",
      "three\n"
     ]
    }
   ],
   "source": [
    "func(*('one', 'two', 'three'))"
   ]
  },
  {
   "cell_type": "code",
   "execution_count": null,
   "metadata": {},
   "outputs": [],
   "source": []
  },
  {
   "cell_type": "markdown",
   "metadata": {},
   "source": [
    "### デフォルト引数が設定されている関数の場合"
   ]
  },
  {
   "cell_type": "code",
   "execution_count": 107,
   "metadata": {},
   "outputs": [
    {
     "name": "stdout",
     "output_type": "stream",
     "text": [
      "one\n",
      "two\n",
      "3\n"
     ]
    }
   ],
   "source": [
    "def func_default(arg1=1, arg2=2, arg3=3):\n",
    "    print(arg1)\n",
    "    print(arg2)\n",
    "    print(arg3)\n",
    "#あった部分のみ引数展開してくれてる\n",
    "func_default(*['one', 'two'])"
   ]
  },
  {
   "cell_type": "code",
   "execution_count": 108,
   "metadata": {},
   "outputs": [
    {
     "name": "stdout",
     "output_type": "stream",
     "text": [
      "one\n",
      "2\n",
      "3\n"
     ]
    }
   ],
   "source": [
    "func_default(*['one'])"
   ]
  },
  {
   "cell_type": "markdown",
   "metadata": {},
   "source": [
    "### 可変長引数が設定されている関数の場合"
   ]
  },
  {
   "cell_type": "code",
   "execution_count": 109,
   "metadata": {},
   "outputs": [
    {
     "name": "stdout",
     "output_type": "stream",
     "text": [
      "one\n",
      "two\n"
     ]
    }
   ],
   "source": [
    "def func_args(arg1, *args):\n",
    "    print(arg1)\n",
    "    for arg in args:\n",
    "        print(arg)\n",
    "\n",
    "#余った部分は可変長引数に入る\n",
    "func_args(*['one', 'two'])"
   ]
  },
  {
   "cell_type": "code",
   "execution_count": 110,
   "metadata": {},
   "outputs": [
    {
     "name": "stdout",
     "output_type": "stream",
     "text": [
      "one\n",
      "two\n",
      "three\n"
     ]
    }
   ],
   "source": [
    "func_args(*['one', 'two', 'three'])"
   ]
  },
  {
   "cell_type": "code",
   "execution_count": 111,
   "metadata": {},
   "outputs": [
    {
     "name": "stdout",
     "output_type": "stream",
     "text": [
      "one\n",
      "two\n",
      "three\n",
      "four\n"
     ]
    }
   ],
   "source": [
    "func_args(*['one', 'two', 'three', 'four'])"
   ]
  },
  {
   "cell_type": "markdown",
   "metadata": {},
   "source": [
    "### 辞書に**を付けて展開"
   ]
  },
  {
   "cell_type": "code",
   "execution_count": 114,
   "metadata": {},
   "outputs": [],
   "source": [
    "def func(arg1, arg2, arg3):\n",
    "    print(arg1)\n",
    "    print(arg2)\n",
    "    print(arg3)\n",
    "d = {'arg1': 'one', 'arg2': 'two', 'arg3': 'three'}"
   ]
  },
  {
   "cell_type": "code",
   "execution_count": 113,
   "metadata": {},
   "outputs": [
    {
     "name": "stdout",
     "output_type": "stream",
     "text": [
      "one\n",
      "two\n",
      "three\n"
     ]
    }
   ],
   "source": [
    "#**を使えば辞書を引数展開できる\n",
    "func(**d)"
   ]
  },
  {
   "cell_type": "code",
   "execution_count": 115,
   "metadata": {},
   "outputs": [
    {
     "name": "stdout",
     "output_type": "stream",
     "text": [
      "one\n",
      "two\n",
      "three\n"
     ]
    }
   ],
   "source": [
    "func(**{'arg1': 'one', 'arg2': 'two', 'arg3': 'three'})"
   ]
  },
  {
   "cell_type": "code",
   "execution_count": null,
   "metadata": {},
   "outputs": [],
   "source": []
  },
  {
   "cell_type": "markdown",
   "metadata": {},
   "source": [
    "より一般的なアプローチは、重みを itertools.accumulate() で累積分布に並べ、ランダム値を bisect.bisect() で位置づけることです:\n"
   ]
  },
  {
   "cell_type": "code",
   "execution_count": 24,
   "metadata": {},
   "outputs": [
    {
     "data": {
      "text/plain": [
       "[3, 5, 6, 10]"
      ]
     },
     "execution_count": 24,
     "metadata": {},
     "output_type": "execute_result"
    }
   ],
   "source": [
    "import itertools\n",
    "#*は引数展開\n",
    "choices, weights = zip(*weighted_choices)\n",
    "cumdist = list(itertools.accumulate(weights))\n",
    "cumdist            # [3, 3+2, 3+2+1, 3+2+1+4]"
   ]
  },
  {
   "cell_type": "code",
   "execution_count": 26,
   "metadata": {},
   "outputs": [
    {
     "data": {
      "text/plain": [
       "'Green'"
      ]
     },
     "execution_count": 26,
     "metadata": {},
     "output_type": "execute_result"
    }
   ],
   "source": [
    "#バイナリサーチのイメージ\n",
    "#http://www.linuxacademy.ne.jp/lablog/programmer/497/\n",
    "import bisect\n",
    "x = random.random() * cumdist[-1]\n",
    "choices[bisect.bisect(cumdist, x)]"
   ]
  },
  {
   "cell_type": "markdown",
   "metadata": {},
   "source": [
    "# Uplift Modeling"
   ]
  },
  {
   "cell_type": "markdown",
   "metadata": {},
   "source": [
    "施策ごとの効果の検証をしたい。treatment groupとcontrol groupに分けてtreatment groupに施策を実施。その差を比較して効果検証を行う。施策を行うのと施策を行わないのでどのくらい反応率が上がるか(up lift)を推定する。"
   ]
  },
  {
   "cell_type": "markdown",
   "metadata": {},
   "source": [
    "# 擬似データセット作成"
   ]
  },
  {
   "cell_type": "markdown",
   "metadata": {},
   "source": [
    "介入行為により、あるセグメント の顧客はコンバージョンレートが改善したが、別セグメントの顧客のコンバージョンレートが悪化し、 全体としては改善していないように見える、というシナリオ"
   ]
  },
  {
   "cell_type": "code",
   "execution_count": 138,
   "metadata": {},
   "outputs": [],
   "source": [
    "\n",
    "import random\n",
    "\n",
    "def generate_sample_data(num, seed=1):\n",
    "    # 返却するリストを確保\n",
    "    #標本サイズとランダム シードを与えることで、コンバージョンしたか否か(is_cv_list)\n",
    "    is_cv_list = []\n",
    "    #実験群か否か(is_treat_list)\n",
    "    is_treat_list = []\n",
    "    #8 次元の特徴量(feature_vector_list)\n",
    "    feature_vector_list = []\n",
    "    \n",
    "    # 乱数を初期化\n",
    "    random_instance = random.Random(seed)\n",
    "    # 返す関数の特徴を設定\n",
    "    feature_num = 8\n",
    "    base_weight = [0.02, 0.03, 0.05, -0.04, 0.00, 0.00, 0.00, 0.00]\n",
    "    lift_weight = [0.00, 0.00, 0.00, 0.05, -0.05, 0.00, 0.00, 0.00]\n",
    "\n",
    "    for i in range(num):\n",
    "        # 特徴ベクトルを乱数で生成\n",
    "        is_treat = random_instance.choice((True, False))\n",
    "#         print(\"is_treat====\", is_treat)\n",
    "        # 実験群かどうかを乱数で決定\n",
    "        feature_vector = [random_instance.random() for n in range(feature_num)]\n",
    "#         print(\"feature_vector====\", feature_vector)\n",
    "        \n",
    "        #内部コンバージョンレートは、feature_vectorと base_weightの内積で定義し、 \n",
    "        #実験群であった場合(is_treat == True)、feature_vectorとlift_weightの内積を加算\n",
    "        \n",
    "        # 内部的なコンバージョンレートを算出\n",
    "        cv_rate = sum([feature_vector[n] * base_weight[n] for n in range(feature_num)])\n",
    "#         print(\"cv_rate====\", cv_rate)\n",
    "        if is_treat:\n",
    "            # 実験群であれば、lift_weightを加味する\n",
    "            cv_rate += sum([feature_vector[n] * lift_weight[n] for n in range(feature_num)])\n",
    "        \n",
    "        #cv_rateの値に基づいて、コンバージョンしたかどうか(is_cv)を決定します。\n",
    "        #例えば、 cv_rateが 0.3 であれば is_cvは 30% の確率で True\n",
    "        \n",
    "        # 実際にコンバージョンしたかどうかを決定する\n",
    "        is_cv = cv_rate > random_instance.random()\n",
    "        # 生成した値を格納\n",
    "        is_cv_list.append(is_cv)\n",
    "        is_treat_list.append(is_treat)\n",
    "        feature_vector_list.append(feature_vector)\n",
    "    # 値を返す\n",
    "    return is_cv_list, is_treat_list, feature_vector_list\n"
   ]
  },
  {
   "cell_type": "code",
   "execution_count": 139,
   "metadata": {},
   "outputs": [
    {
     "data": {
      "text/plain": [
       "([False, False],\n",
       " [True, False],\n",
       " [[0.5692038748222122,\n",
       "   0.8022650611681835,\n",
       "   0.06310682188770933,\n",
       "   0.11791870367106105,\n",
       "   0.7609624449125756,\n",
       "   0.47224524357611664,\n",
       "   0.37961522332372777,\n",
       "   0.20995480637147712],\n",
       "  [0.43276706790505337,\n",
       "   0.762280082457942,\n",
       "   0.0021060533511106927,\n",
       "   0.4453871940548014,\n",
       "   0.7215400323407826,\n",
       "   0.22876222127045265,\n",
       "   0.9452706955539223,\n",
       "   0.9014274576114836]])"
      ]
     },
     "execution_count": 139,
     "metadata": {},
     "output_type": "execute_result"
    }
   ],
   "source": [
    "generate_sample_data(2)"
   ]
  },
  {
   "cell_type": "code",
   "execution_count": 140,
   "metadata": {},
   "outputs": [
    {
     "data": {
      "text/plain": [
       "LogisticRegression(C=0.01, class_weight=None, dual=False, fit_intercept=True,\n",
       "          intercept_scaling=1, max_iter=100, multi_class='ovr', n_jobs=1,\n",
       "          penalty='l2', random_state=None, solver='liblinear', tol=0.0001,\n",
       "          verbose=0, warm_start=False)"
      ]
     },
     "execution_count": 140,
     "metadata": {},
     "output_type": "execute_result"
    }
   ],
   "source": [
    "\n",
    "from sklearn.linear_model import LogisticRegression\n",
    "\n",
    "# trainデータの生成\n",
    "sample_num = 100000\n",
    "train_is_cv_list, train_is_treat_list, train_feature_vector_list = generate_sample_data(sample_num, seed=1)\n",
    "\n",
    "# 学習器の生成\n",
    "treat_model = LogisticRegression(C=0.01)\n",
    "control_model = LogisticRegression(C=0.01)\n",
    "\n",
    "# データをtreatmentとcontrolに分離\n",
    "treat_is_cv_list = []\n",
    "treat_feature_vector_list = []\n",
    "control_is_cv_list = []\n",
    "control_feature_vector_list = []\n",
    "\n",
    "for i in range(sample_num):\n",
    "    if train_is_treat_list[i]:\n",
    "        treat_is_cv_list.append(train_is_cv_list[i])\n",
    "        treat_feature_vector_list.append(train_feature_vector_list[i])\n",
    "    else:\n",
    "        control_is_cv_list.append(train_is_cv_list[i])\n",
    "        control_feature_vector_list.append(train_feature_vector_list[i])\n",
    "\n",
    "# 学習器の構築\n",
    "treat_model.fit(treat_feature_vector_list, treat_is_cv_list)\n",
    "control_model.fit(control_feature_vector_list, control_is_cv_list)"
   ]
  },
  {
   "cell_type": "code",
   "execution_count": 141,
   "metadata": {},
   "outputs": [
    {
     "name": "stdout",
     "output_type": "stream",
     "text": [
      "treatment_cvr 0.0309636212163288\n",
      "control_cvr 0.029544629532529343\n"
     ]
    }
   ],
   "source": [
    "print(\"treatment_cvr\", treat_is_cv_list.count(True) / len(treat_is_cv_list))\n",
    "print(\"control_cvr\", control_is_cv_list.count(True) / len(control_is_cv_list))"
   ]
  },
  {
   "cell_type": "code",
   "execution_count": 142,
   "metadata": {},
   "outputs": [
    {
     "data": {
      "text/plain": [
       "array([[-0.1460999 ,  0.04339487,  0.32390363, -0.19761846, -1.32800043,\n",
       "        -0.36709028, -0.5011928 , -0.44477014]])"
      ]
     },
     "execution_count": 142,
     "metadata": {},
     "output_type": "execute_result"
    }
   ],
   "source": [
    "#coef_で係数表示\n",
    "treat_model.coef_"
   ]
  },
  {
   "cell_type": "code",
   "execution_count": 143,
   "metadata": {},
   "outputs": [
    {
     "data": {
      "text/plain": [
       "array([[-0.07800748,  0.02601851,  0.36912944, -1.07796407, -0.4789997 ,\n",
       "        -0.46711458, -0.42302397, -0.38779378]])"
      ]
     },
     "execution_count": 143,
     "metadata": {},
     "output_type": "execute_result"
    }
   ],
   "source": [
    "control_model.coef_"
   ]
  },
  {
   "cell_type": "code",
   "execution_count": 144,
   "metadata": {},
   "outputs": [],
   "source": [
    "# seedを変えて、テストデータを生成\n",
    "test_is_cv_list, test_is_treat_list, test_feature_vector_list = generate_sample_data(sample_num, seed=42)\n",
    "\n",
    "# それぞれの学習器でCVRを予測\n",
    "treat_score = treat_model.predict_proba(test_feature_vector_list)\n",
    "control_score = control_model.predict_proba(test_feature_vector_list)\n",
    "\n",
    "# スコアの算出、スコアは実験群の予測CVR / 統制群の予測CVR\n",
    "# predict_probaはクラス所属確率のリストを返すため1番目を参照する\n",
    "# model.classes_ を参照すると、どのクラスが何番目かを知ることができる\n",
    "score_list = treat_score[:,1] / control_score[:,1]"
   ]
  },
  {
   "cell_type": "code",
   "execution_count": 145,
   "metadata": {},
   "outputs": [],
   "source": [
    "#config magic\n",
    "#https://ipython.org/ipython-doc/3/config/intro.html\n",
    "%config InlineBackend.figure_formats = {'png', 'retina'}"
   ]
  },
  {
   "cell_type": "code",
   "execution_count": 146,
   "metadata": {
    "scrolled": true
   },
   "outputs": [
    {
     "data": {
      "text/plain": [
       "Text(0,0.5,'conversion rate')"
      ]
     },
     "execution_count": 146,
     "metadata": {},
     "output_type": "execute_result"
    },
    {
     "data": {
      "image/png": "[encoded data removed]",
      "text/plain": [
       "<Figure size 432x288 with 1 Axes>"
      ]
     },
     "metadata": {
      "image/png": {
       "height": 316,
       "width": 396
      }
     },
     "output_type": "display_data"
    }
   ],
   "source": [
    "import pandas as pd\n",
    "import matplotlib.pyplot as plt\n",
    "import numpy as np\n",
    "from operator import itemgetter\n",
    "plt.style.use('ggplot')\n",
    "\n",
    "%matplotlib inline \n",
    "\n",
    "# スコアが高い順に並べ替える\n",
    "result = list(zip(test_is_cv_list, test_is_treat_list, score_list))\n",
    "result.sort(key=itemgetter(2), reverse=True)\n",
    "\n",
    "qdf = pd.DataFrame(columns=('treat_cvr', 'control_cvr'))\n",
    "\n",
    "for n in range(10):\n",
    "    start = int(n * len(result) / 10)\n",
    "    end = int((n + 1) * len(result) / 10) - 1\n",
    "    quantiled_result = result[start:end]\n",
    "\n",
    "    treat_uu = list(map(lambda item:item[1], quantiled_result)).count(True)\n",
    "    control_uu = list(map(lambda item:item[1], quantiled_result)).count(False)\n",
    "\n",
    "    treat_cv = [item[0] for item in quantiled_result if item[1] == True].count(True)\n",
    "    control_cv = [item[0] for item in quantiled_result if item[1] == False].count(True)\n",
    "\n",
    "    treat_cvr = treat_cv / treat_uu\n",
    "    control_cvr = control_cv / control_uu\n",
    "    \n",
    "    label = \"{}%~{}%\".format(n*10, (n+1)*10)\n",
    "    qdf.loc[label] = [treat_cvr, control_cvr]\n",
    "\n",
    "qdf.plot.bar()\n",
    "plt.xlabel(\"percentile\")\n",
    "plt.ylabel(\"conversion rate\")"
   ]
  },
  {
   "cell_type": "markdown",
   "metadata": {},
   "source": [
    "図：10 パーセンタイルごとにコンバージョン率を可視化    \n",
    "左のほうがスコアが高い。統制群/実験群がスコア。\n",
    "treatは実験群。controlが統制群（何もしない）。    \n",
    "スコアが高いほど実験群の コンバージョンレートが高く、統制群のコンバージョンレートが低くなることが確認    \n",
    "Uplift Modelingがうまく動いている    \n",
    "AUUCの値は大きければ大きいほど、Uplift Modelingの性 能が高い"
   ]
  },
  {
   "cell_type": "code",
   "execution_count": 147,
   "metadata": {
    "scrolled": true
   },
   "outputs": [
    {
     "name": "stderr",
     "output_type": "stream",
     "text": [
      "/Users/miyamoto/.pyenv/versions/miniconda3-4.1.11/envs/py35/lib/python3.5/site-packages/pandas/plotting/_core.py:1716: UserWarning: Pandas doesn't allow columns to be created via a new attribute name - see https://pandas.pydata.org/pandas-docs/stable/indexing.html#attribute-access\n",
      "  series.name = label\n"
     ]
    },
    {
     "data": {
      "text/plain": [
       "Text(0,0.5,'conversion count')"
      ]
     },
     "execution_count": 147,
     "metadata": {},
     "output_type": "execute_result"
    },
    {
     "data": {
      "image/png": "[encoded data removed]",
      "text/plain": [
       "<Figure size 432x288 with 1 Axes>"
      ]
     },
     "metadata": {
      "image/png": {
       "height": 266,
       "width": 401
      }
     },
     "output_type": "display_data"
    }
   ],
   "source": [
    "# スコア順に集計を行う\n",
    "treat_uu = 0\n",
    "control_uu = 0\n",
    "treat_cv = 0\n",
    "control_cv = 0\n",
    "treat_cvr = 0.0\n",
    "control_cvr = 0.0\n",
    "lift = 0.0\n",
    "\n",
    "stat_data = []\n",
    "\n",
    "for is_cv, is_treat, score in result:\n",
    "    if is_treat:\n",
    "        treat_uu += 1\n",
    "        if is_cv:\n",
    "            treat_cv += 1\n",
    "        treat_cvr = treat_cv / treat_uu\n",
    "    else:\n",
    "        control_uu += 1\n",
    "        if is_cv:\n",
    "            control_cv += 1\n",
    "        control_cvr = control_cv / control_uu\n",
    "\n",
    "    # コンバージョンレートの差に実験群の人数を掛けることでliftを算出\n",
    "    lift = (treat_cvr - control_cvr) * treat_uu\n",
    "\n",
    "    stat_data.append([is_cv, is_treat, score, treat_uu, control_uu, treat_cv, control_cv, treat_cvr, control_cvr, lift])\n",
    "\n",
    "# 統計データを、DataFrameに変換する\n",
    "df = pd.DataFrame(stat_data)\n",
    "df.columns = [\"is_cv\", \"is_treat\", \"score\", \"treat_uu\", \"control_uu\", \"treat_cv\", \"control_cv\", \"treat_cvr\", \"control_cvr\", \"lift\"]\n",
    "\n",
    "# ベースラインを書き加える\n",
    "df[\"base_line\"] = df.index * df[\"lift\"][len(df.index) - 1] / len(df.index)\n",
    "\n",
    "# 可視化を行う\n",
    "df.plot(y=[\"treat_cv\", \"control_cv\"])\n",
    "plt.xlabel(\"uplift score rank\")\n",
    "plt.ylabel(\"conversion count\")\n"
   ]
  },
  {
   "cell_type": "markdown",
   "metadata": {},
   "source": [
    "図：実験群と介入群のコンバージョン件数の比較"
   ]
  },
  {
   "cell_type": "code",
   "execution_count": 149,
   "metadata": {
    "scrolled": true
   },
   "outputs": [
    {
     "name": "stderr",
     "output_type": "stream",
     "text": [
      "/Users/miyamoto/.pyenv/versions/miniconda3-4.1.11/envs/py35/lib/python3.5/site-packages/pandas/plotting/_core.py:1716: UserWarning: Pandas doesn't allow columns to be created via a new attribute name - see https://pandas.pydata.org/pandas-docs/stable/indexing.html#attribute-access\n",
      "  series.name = label\n"
     ]
    },
    {
     "data": {
      "text/plain": [
       "Text(0,0.5,'conversion rate')"
      ]
     },
     "execution_count": 149,
     "metadata": {},
     "output_type": "execute_result"
    },
    {
     "data": {
      "image/png": "[encoded data removed]",
      "text/plain": [
       "<Figure size 432x288 with 1 Axes>"
      ]
     },
     "metadata": {
      "image/png": {
       "height": 268,
       "width": 398
      }
     },
     "output_type": "display_data"
    }
   ],
   "source": [
    "df.plot(y=[\"treat_cvr\", \"control_cvr\"])\n",
    "plt.xlabel(\"uplift score rank\")\n",
    "plt.ylabel(\"conversion rate\")\n",
    "\n"
   ]
  },
  {
   "cell_type": "markdown",
   "metadata": {},
   "source": [
    "図：実験群と統制軍のコンバージョンレートの比較"
   ]
  },
  {
   "cell_type": "code",
   "execution_count": 150,
   "metadata": {},
   "outputs": [
    {
     "name": "stderr",
     "output_type": "stream",
     "text": [
      "/Users/miyamoto/.pyenv/versions/miniconda3-4.1.11/envs/py35/lib/python3.5/site-packages/pandas/plotting/_core.py:1716: UserWarning: Pandas doesn't allow columns to be created via a new attribute name - see https://pandas.pydata.org/pandas-docs/stable/indexing.html#attribute-access\n",
      "  series.name = label\n"
     ]
    },
    {
     "data": {
      "text/plain": [
       "Text(0,0.5,'conversion lift')"
      ]
     },
     "execution_count": 150,
     "metadata": {},
     "output_type": "execute_result"
    },
    {
     "data": {
      "image/png": "[encoded data removed]",
      "text/plain": [
       "<Figure size 432x288 with 1 Axes>"
      ]
     },
     "metadata": {
      "image/png": {
       "height": 266,
       "width": 395
      }
     },
     "output_type": "display_data"
    }
   ],
   "source": [
    "\n",
    "df.plot(y=[\"lift\", \"base_line\"])\n",
    "plt.xlabel(\"uplift score rank\")\n",
    "plt.ylabel(\"conversion lift\")\n"
   ]
  },
  {
   "cell_type": "markdown",
   "metadata": {},
   "source": [
    "図：コンバージョンレートの差から、コンバージョン上昇件数を推定    \n",
    "\n",
    "https://ysk24ok.github.io/2017/11/25/uplift_modeling.html    \n",
    "Uplift Modelingの評価にはAUUCが用いられ、AUUCの算出にはliftという指標が用いられる。\n",
    "liftとは、あるスコアを閾値としたとき、その閾値以上の顧客にのみ介入した場合と\n",
    "全く介入をおこなわなかった場合とを比較してどれだけCV数が増えるかを表す値である。\n",
    "横軸をスコアの降順に並べたときの順位とすると、liftは下の図で示すような曲線となり、この曲線とx軸で囲まれた面積が全く介入をおこなわない場合と比較したCV上昇数となる。"
   ]
  },
  {
   "cell_type": "code",
   "execution_count": 148,
   "metadata": {},
   "outputs": [
    {
     "name": "stderr",
     "output_type": "stream",
     "text": [
      "/Users/miyamoto/.pyenv/versions/miniconda3-4.1.11/envs/py35/lib/python3.5/site-packages/pandas/plotting/_core.py:1716: UserWarning: Pandas doesn't allow columns to be created via a new attribute name - see https://pandas.pydata.org/pandas-docs/stable/indexing.html#attribute-access\n",
      "  series.name = label\n"
     ]
    },
    {
     "data": {
      "text/plain": [
       "Text(0,0.5,'conversion lift')"
      ]
     },
     "execution_count": 148,
     "metadata": {},
     "output_type": "execute_result"
    },
    {
     "data": {
      "image/png": "[encoded data removed]",
      "text/plain": [
       "<Figure size 432x288 with 1 Axes>"
      ]
     },
     "metadata": {
      "image/png": {
       "height": 266,
       "width": 393
      }
     },
     "output_type": "display_data"
    }
   ],
   "source": [
    "# df.plot(x=\"score\", y=[\"treat_cv\", \"control_cv\"], title=\"conversion count\")\n",
    "# df.plot(x=\"score\", y=[\"treat_cvr\", \"control_cvr\"], title=\"conversion rate\")\n",
    "df.plot(x=\"score\", y=[\"lift\", \"base_line\"])\n",
    "plt.xlabel(\"uplift score\")\n",
    "plt.ylabel(\"conversion lift\")\n",
    "\n"
   ]
  },
  {
   "cell_type": "markdown",
   "metadata": {},
   "source": [
    "図：横軸をスコアにした Lift のグラフ"
   ]
  },
  {
   "cell_type": "code",
   "execution_count": null,
   "metadata": {},
   "outputs": [],
   "source": []
  },
  {
   "cell_type": "code",
   "execution_count": 151,
   "metadata": {},
   "outputs": [
    {
     "name": "stdout",
     "output_type": "stream",
     "text": [
      "AUUC: 302.2463698475072\n"
     ]
    }
   ],
   "source": [
    "auuc = (df[\"lift\"] - df[\"base_line\"]).sum() / len(df[\"lift\"])\n",
    "print(\"AUUC:\", auuc)"
   ]
  },
  {
   "cell_type": "code",
   "execution_count": null,
   "metadata": {},
   "outputs": [],
   "source": []
  }
 ],
 "metadata": {
  "kernelspec": {
   "display_name": "Python 3",
   "language": "python",
   "name": "python3"
  },
  "language_info": {
   "codemirror_mode": {
    "name": "ipython",
    "version": 3
   },
   "file_extension": ".py",
   "mimetype": "text/x-python",
   "name": "python",
   "nbconvert_exporter": "python",
   "pygments_lexer": "ipython3",
   "version": "3.5.5"
  }
 },
 "nbformat": 4,
 "nbformat_minor": 2
}
