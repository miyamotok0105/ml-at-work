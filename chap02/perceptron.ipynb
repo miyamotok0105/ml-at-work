{
 "cells": [
  {
   "cell_type": "code",
   "execution_count": 1,
   "metadata": {},
   "outputs": [],
   "source": [
    "#http://tadaoyamaoka.hatenablog.com/entry/2016/04/10/120305\n",
    "#Pythonで3層パーセプトロンの誤差逆伝播を実装してみる\n"
   ]
  },
  {
   "cell_type": "code",
   "execution_count": null,
   "metadata": {},
   "outputs": [],
   "source": []
  },
  {
   "cell_type": "code",
   "execution_count": 18,
   "metadata": {},
   "outputs": [],
   "source": [
    "import numpy as np\n",
    "\n",
    "def sigmoid(u):\n",
    "    return 1 / (1 + np.exp(-u))\n",
    "\n",
    "def softmax(u):\n",
    "    e = np.exp(u)\n",
    "    return e / np.sum(e)\n",
    "\n",
    "def forward(x):\n",
    "    global W1\n",
    "    global W2\n",
    "    u1 = x.dot(W1)\n",
    "    z1 = sigmoid(u1)\n",
    "    u2 = z1.dot(W2)\n",
    "    y = softmax(u2)\n",
    "    return y, z1"
   ]
  },
  {
   "cell_type": "code",
   "execution_count": 19,
   "metadata": {},
   "outputs": [],
   "source": [
    "x1 = np.array([4,3,3,4])\n",
    "x2 = np.array([2,2,2,1])\n",
    "x = np.array([[x1, x2]])\n"
   ]
  },
  {
   "cell_type": "markdown",
   "metadata": {},
   "source": [
    "$$(x1, x2) \\cdot \\begin{pmatrix}\n",
    " w_{11}^{1}&w_{21}^{1} \\\\ \n",
    " w_{12}^{1}&w_{22}^{1} \n",
    "\\end{pmatrix} \n",
    "= \n",
    "\\bigl(\\begin{smallmatrix}\n",
    "x1 w_{11}^{1}+x2 w_{12}^{1}  &  x1 w_{21}^{1}+x2 w_{22}^{1}\n",
    "\\end{smallmatrix}\\bigr)\n",
    "$$"
   ]
  },
  {
   "cell_type": "code",
   "execution_count": 20,
   "metadata": {},
   "outputs": [],
   "source": [
    "W1 = np.array([[0.1, 0.3], [0.2, 0.4]])\n",
    "W2 = np.array([[0.1, 0.3], [0.2, 0.4]])\n",
    "learning_rate = 0.005"
   ]
  },
  {
   "cell_type": "code",
   "execution_count": 21,
   "metadata": {},
   "outputs": [
    {
     "name": "stdout",
     "output_type": "stream",
     "text": [
      "z1: [[0.549834   0.62245933]]\n",
      "y: [[0.44165237 0.55834763]]\n"
     ]
    }
   ],
   "source": [
    "\n",
    "x = np.array([[1, 0.5]])\n",
    "y, z1 = forward(x)\n",
    "\n",
    "print(\"z1:\", z1)\n",
    "print(\"y:\", y)"
   ]
  },
  {
   "cell_type": "code",
   "execution_count": null,
   "metadata": {},
   "outputs": [],
   "source": []
  },
  {
   "cell_type": "code",
   "execution_count": 33,
   "metadata": {},
   "outputs": [],
   "source": [
    "def back_propagation(x, z1, y, d):\n",
    "    global W1\n",
    "    global W2\n",
    "    delta2 = y - d\n",
    "    grad_W2 = z1.T.dot(delta2)\n",
    "\n",
    "    sigmoid_dash = z1 * (1 - z1)\n",
    "    delta1 = delta2.dot(W2.T) * sigmoid_dash\n",
    "    grad_W1 = x.T.dot(delta1)\n",
    "\n",
    "    W2 -= learning_rate * grad_W2\n",
    "    W1 -= learning_rate * grad_W1"
   ]
  },
  {
   "cell_type": "code",
   "execution_count": 34,
   "metadata": {},
   "outputs": [],
   "source": [
    "# 誤差逆伝播\n",
    "d = np.array([[1, 0]]) # 教師データ\n",
    "back_propagation(x, z1, y, d)\n",
    "back_propagation(x, z1, y, d)\n",
    "back_propagation(x, z1, y, d)\n"
   ]
  },
  {
   "cell_type": "code",
   "execution_count": 35,
   "metadata": {},
   "outputs": [
    {
     "name": "stdout",
     "output_type": "stream",
     "text": [
      "z1: [[0.549834   0.62245933]]\n",
      "y: [[0.44165237 0.55834763]]\n",
      "W1 [[0.09883257 0.29890116]\n",
      " [0.19941628 0.39945058]]\n",
      "W2 [[0.11381493 0.28618507]\n",
      " [0.21563969 0.38436031]]\n"
     ]
    }
   ],
   "source": [
    "print(\"z1:\", z1)\n",
    "print(\"y:\", y)\n",
    "print(\"W1\", W1)\n",
    "print(\"W2\", W2)"
   ]
  },
  {
   "cell_type": "code",
   "execution_count": null,
   "metadata": {},
   "outputs": [],
   "source": []
  },
  {
   "cell_type": "code",
   "execution_count": 36,
   "metadata": {},
   "outputs": [],
   "source": [
    "def cross_entropy_error(y, t, eps = 1e-15):\n",
    "    y_clipped = np.clip(y, eps , 1 - eps)\n",
    "    return -1 * (np.sum(t * np.log(y_clipped) + (1 - t) * np.log(1 - y_clipped)))"
   ]
  },
  {
   "cell_type": "code",
   "execution_count": 37,
   "metadata": {},
   "outputs": [
    {
     "data": {
      "text/plain": [
       "1.6344643811364101"
      ]
     },
     "execution_count": 37,
     "metadata": {},
     "output_type": "execute_result"
    }
   ],
   "source": [
    "cross_entropy_error(y, d)"
   ]
  },
  {
   "cell_type": "code",
   "execution_count": null,
   "metadata": {},
   "outputs": [],
   "source": []
  }
 ],
 "metadata": {
  "kernelspec": {
   "display_name": "Python 3",
   "language": "python",
   "name": "python3"
  },
  "language_info": {
   "codemirror_mode": {
    "name": "ipython",
    "version": 3
   },
   "file_extension": ".py",
   "mimetype": "text/x-python",
   "name": "python",
   "nbconvert_exporter": "python",
   "pygments_lexer": "ipython3",
   "version": "3.5.4"
  }
 },
 "nbformat": 4,
 "nbformat_minor": 2
}
