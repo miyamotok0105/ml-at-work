{
 "cells": [
  {
   "cell_type": "code",
   "execution_count": 22,
   "metadata": {},
   "outputs": [
    {
     "name": "stdout",
     "output_type": "stream",
     "text": [
      "['setosa' 'versicolor' 'virginica']\n"
     ]
    }
   ],
   "source": [
    "from sklearn.cross_validation import train_test_split\n",
    "from sklearn.metrics import confusion_matrix\n",
    "from sklearn.datasets import load_iris\n",
    "from sklearn.svm import SVC\n",
    "\n",
    "data = load_iris()\n",
    "train = data.data\n",
    "label = data.target\n",
    "print(data.target_names)\n",
    "# データと正解ラベルを学習用とテスト用に分割する\n",
    "data_train, data_test, label_train, label_test = train_test_split(train, label)\n",
    "# 何かしらの予測をする。例として線形SVMで予測している\n",
    "classifier = SVC(kernel='linear')\n",
    "label_pred = classifier.fit(data_train, label_train).predict(data_test)"
   ]
  },
  {
   "cell_type": "markdown",
   "metadata": {},
   "source": [
    "# 混同行列"
   ]
  },
  {
   "cell_type": "code",
   "execution_count": 9,
   "metadata": {},
   "outputs": [
    {
     "name": "stdout",
     "output_type": "stream",
     "text": [
      "[[13  0  0]\n",
      " [ 0  7  2]\n",
      " [ 0  1 15]]\n"
     ]
    }
   ],
   "source": [
    "# 混同行列を計算する\n",
    "cm = confusion_matrix(label_test, label_pred)\n",
    "print(cm)\n",
    "#http://sucrose.hatenablog.com/entry/2013/05/25/133021\n",
    "#尺度というよりはどの正解ラベルのデータをどのラベルに何個分類したかという表"
   ]
  },
  {
   "cell_type": "code",
   "execution_count": 68,
   "metadata": {},
   "outputs": [
    {
     "data": {
      "image/png": "[encoded data removed]",
      "text/plain": [
       "<matplotlib.figure.Figure at 0x115166358>"
      ]
     },
     "metadata": {},
     "output_type": "display_data"
    }
   ],
   "source": [
    "import seaborn as sns; sns.set()\n",
    "ax = sns.heatmap(cm)"
   ]
  },
  {
   "cell_type": "markdown",
   "metadata": {},
   "source": [
    "# 正解率"
   ]
  },
  {
   "cell_type": "code",
   "execution_count": 11,
   "metadata": {},
   "outputs": [
    {
     "data": {
      "text/plain": [
       "0.9210526315789473"
      ]
     },
     "execution_count": 11,
     "metadata": {},
     "output_type": "execute_result"
    }
   ],
   "source": [
    "from sklearn.metrics import accuracy_score\n",
    "accuracy_score(label_test, label_pred)"
   ]
  },
  {
   "cell_type": "markdown",
   "metadata": {},
   "source": [
    "# F値"
   ]
  },
  {
   "cell_type": "markdown",
   "metadata": {},
   "source": [
    "Precision、RecallとF値とsupport(正解ラベルのデータの数)"
   ]
  },
  {
   "cell_type": "code",
   "execution_count": 29,
   "metadata": {},
   "outputs": [
    {
     "name": "stdout",
     "output_type": "stream",
     "text": [
      "             precision    recall  f1-score   support\n",
      "\n",
      "     setosa       1.00      1.00      1.00        15\n",
      " versicolor       1.00      0.89      0.94         9\n",
      "  virginica       0.93      1.00      0.97        14\n",
      "\n",
      "avg / total       0.98      0.97      0.97        38\n",
      "\n"
     ]
    }
   ],
   "source": [
    "from sklearn.metrics import classification_report\n",
    "target_names = [data.target_names[0], data.target_names[1], data.target_names[2]]\n",
    "print(classification_report(label_test, label_pred, target_names=target_names))"
   ]
  },
  {
   "cell_type": "markdown",
   "metadata": {},
   "source": [
    "# 多クラス分類の平均の取り方：マイクロ平均、マクロ平均"
   ]
  },
  {
   "cell_type": "markdown",
   "metadata": {},
   "source": [
    "$$Precision_{}^{micro average} =\n",
    "\\frac{TP1+TP2+TP3}{TP1+TP2+TP3+FP1+FP2+FP3}$$"
   ]
  },
  {
   "cell_type": "code",
   "execution_count": 61,
   "metadata": {},
   "outputs": [
    {
     "name": "stdout",
     "output_type": "stream",
     "text": [
      "f1_score micro: 0.9736842105263158\n"
     ]
    }
   ],
   "source": [
    "from sklearn.svm import SVC\n",
    "from sklearn.metrics import f1_score\n",
    "\n",
    "classifier = SVC(kernel='linear')\n",
    "label_pred = classifier.fit(data_train, label_train).predict(data_test)\n",
    "f1 = f1_score(label_test, label_pred, average='micro')\n",
    "print(\"f1_score micro:\",f1)"
   ]
  },
  {
   "cell_type": "markdown",
   "metadata": {},
   "source": [
    "$$Precision_{}^{macro average} =\n",
    "\\frac{Precision1+Precision2+Precision3}{3}$$"
   ]
  },
  {
   "cell_type": "code",
   "execution_count": 62,
   "metadata": {
    "scrolled": true
   },
   "outputs": [
    {
     "name": "stdout",
     "output_type": "stream",
     "text": [
      "f1_score macro: 0.9688979039891819\n"
     ]
    }
   ],
   "source": [
    "from sklearn.svm import SVC\n",
    "from sklearn.metrics import f1_score\n",
    "\n",
    "classifier = SVC(kernel='linear')\n",
    "label_pred = classifier.fit(data_train, label_train).predict(data_test)\n",
    "f1 = f1_score(label_test, label_pred, average='macro')\n",
    "print(\"f1_score macro:\",f1)"
   ]
  },
  {
   "cell_type": "markdown",
   "metadata": {},
   "source": [
    "# 分類モデルを比較する"
   ]
  },
  {
   "cell_type": "markdown",
   "metadata": {},
   "source": [
    ">誤りが許されない問題の場合、例えば「適合率が 0.9 以上にならないモデルは採用しない」という最 低ラインを決めて、その上で F 値が高くなるようにパラメーターチューニングをして、モデル選択をす るのが良いでしょう。"
   ]
  },
  {
   "cell_type": "markdown",
   "metadata": {},
   "source": [
    "本には詳しく書かれてないが、ROC曲線やAUCの評価値も使われる。"
   ]
  },
  {
   "cell_type": "markdown",
   "metadata": {},
   "source": [
    "# 回帰の評価"
   ]
  },
  {
   "cell_type": "markdown",
   "metadata": {},
   "source": [
    "## 平均二乗誤差"
   ]
  },
  {
   "cell_type": "markdown",
   "metadata": {},
   "source": [
    "<img src=\"data:image/png;base64,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\">"
   ]
  },
  {
   "cell_type": "code",
   "execution_count": 67,
   "metadata": {},
   "outputs": [
    {
     "name": "stdout",
     "output_type": "stream",
     "text": [
      "0.16222142113076254\n",
      "0.16222142113076254\n"
     ]
    }
   ],
   "source": [
    "from sklearn.svm import SVC\n",
    "from sklearn.metrics import f1_score\n",
    "\n",
    "def sqrt_error(predicts, actuals):\n",
    "    from math import sqrt\n",
    "    sum = 0\n",
    "    #Pythonではforは遅くなるよ。\n",
    "    for predict, actual in zip(predicts, actuals):\n",
    "        sum += (predict - actual) ** 2\n",
    "    print(sqrt(sum / len(predicts)))\n",
    "\n",
    "classifier = SVC(kernel='linear')\n",
    "label_pred = classifier.fit(data_train, label_train).predict(data_test)\n",
    "#math 二乗誤差\n",
    "sqrt_error(label_pred, label_test)\n",
    "\n",
    "from sklearn.metrics import mean_squared_error \n",
    "from math import sqrt\n",
    "#sklearn 二乗誤差\n",
    "print(sqrt(mean_squared_error(label_test, label_pred)))\n"
   ]
  },
  {
   "cell_type": "code",
   "execution_count": null,
   "metadata": {},
   "outputs": [],
   "source": []
  },
  {
   "cell_type": "markdown",
   "metadata": {},
   "source": [
    "# 決定係数"
   ]
  },
  {
   "cell_type": "markdown",
   "metadata": {},
   "source": [
    "回帰では平均二乗誤差と当てはまりの良さを表現する決定係数R2を使う。"
   ]
  },
  {
   "cell_type": "markdown",
   "metadata": {},
   "source": [
    "<img src=\"data:image/png;base64,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\">"
   ]
  },
  {
   "cell_type": "code",
   "execution_count": 90,
   "metadata": {},
   "outputs": [
    {
     "name": "stdout",
     "output_type": "stream",
     "text": [
      "score: 0.9254785945342148\n",
      "r2_score: 0.9254785945342148\n"
     ]
    }
   ],
   "source": [
    "from sklearn.linear_model import LinearRegression\n",
    "lr = LinearRegression()\n",
    "lr.fit(data_train, label_train)\n",
    "print(\"score:\", lr.score(data_test, label_test))\n",
    "from sklearn.metrics import r2_score\n",
    "r2 = r2_score(label_test, lr.predict(data_test))\n",
    "print(\"r2_score:\",r2)"
   ]
  },
  {
   "cell_type": "markdown",
   "metadata": {},
   "source": [
    "# まとめ"
   ]
  },
  {
   "cell_type": "markdown",
   "metadata": {},
   "source": [
    "分類の評価指標として正解率、適合率、再現率、F値があった。データの偏りを考慮するには正解率では足りず、適合率、再現率について確認した。また、F値を使用してどちらに偏ってるのかを確認した。    \n",
    "回帰の評価指標として平均二乗誤差と決定係数について確認した。    \n",
    "A/Bテストにおいては機械学習の評価観点とビジネス上のKPIの観点で分けて考えることが重要。"
   ]
  },
  {
   "cell_type": "code",
   "execution_count": null,
   "metadata": {},
   "outputs": [],
   "source": []
  },
  {
   "cell_type": "code",
   "execution_count": null,
   "metadata": {},
   "outputs": [],
   "source": []
  }
 ],
 "metadata": {
  "kernelspec": {
   "display_name": "Python 3",
   "language": "python",
   "name": "python3"
  },
  "language_info": {
   "codemirror_mode": {
    "name": "ipython",
    "version": 3
   },
   "file_extension": ".py",
   "mimetype": "text/x-python",
   "name": "python",
   "nbconvert_exporter": "python",
   "pygments_lexer": "ipython3",
   "version": "3.5.4"
  }
 },
 "nbformat": 4,
 "nbformat_minor": 2
}
